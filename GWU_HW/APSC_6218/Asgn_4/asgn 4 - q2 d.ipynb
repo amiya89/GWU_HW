{
 "cells": [
  {
   "cell_type": "code",
   "execution_count": 25,
   "metadata": {
    "collapsed": true
   },
   "outputs": [],
   "source": [
    "import numpy\n",
    "import matplotlib.pyplot as plt\n",
    "%matplotlib inline"
   ]
  },
  {
   "cell_type": "code",
   "execution_count": 26,
   "metadata": {
    "collapsed": true
   },
   "outputs": [],
   "source": [
    "x0 = 0.0\n",
    "L = 1.0\n",
    "x_range = int(50)\n",
    "x_dom = numpy.linspace(x0, L, 50)\n",
    "t = 10\n",
    "D = 1"
   ]
  },
  {
   "cell_type": "code",
   "execution_count": 27,
   "metadata": {
    "collapsed": false
   },
   "outputs": [],
   "source": [
    "T_dom = numpy.zeros_like(x_dom)\n",
    "n_store = numpy.zeros(100)\n",
    "n = numpy.linspace(1,100,100)\n",
    "for i in range(50):\n",
    "    #print(i)\n",
    "    for z in range(100): \n",
    "        n_store[z] = ((((1-x_dom[i])/L)*(4/numpy.pi) *(((-1)**(n[z]+1))/(2*n[z] -1))) -\\\n",
    "                      ((8*L)/((2*n[z] - 1)**2 * (numpy.pi)**2))) *\\\n",
    "                    numpy.cos(((2*n[z] - 1)*numpy.pi*x_dom[i])/(2*L))*\\\n",
    "                    numpy.exp((-D*t*((2*n[z] - 1)**2) * (numpy.pi**2))/(4*L**2))\n",
    "        T_dom[i] = numpy.sum(n_store)\n",
    "        #print(n[z])"
   ]
  },
  {
   "cell_type": "code",
   "execution_count": 28,
   "metadata": {
    "collapsed": false
   },
   "outputs": [
    {
     "data": {
      "text/plain": [
       "[<matplotlib.lines.Line2D at 0x12acef0>]"
      ]
     },
     "execution_count": 28,
     "metadata": {},
     "output_type": "execute_result"
    },
    {
     "data": {
      "image/png": "[encoded data removed]",
      "text/plain": [
       "<matplotlib.figure.Figure at 0x7d9e400>"
      ]
     },
     "metadata": {},
     "output_type": "display_data"
    }
   ],
   "source": [
    "plt.plot(x_dom, T_dom)"
   ]
  },
  {
   "cell_type": "code",
   "execution_count": 29,
   "metadata": {
    "collapsed": true
   },
   "outputs": [],
   "source": [
    "val1 = numpy.zeros(5)\n",
    "val2 = numpy.zeros(5)\n",
    "\n",
    "for i in range(5):\n",
    "    for z in range(5):\n",
    "        val2[z] = 1\n",
    "        val1[i] = numpy.sum(val2)"
   ]
  },
  {
   "cell_type": "code",
   "execution_count": 30,
   "metadata": {
    "collapsed": false
   },
   "outputs": [
    {
     "name": "stdout",
     "output_type": "stream",
     "text": [
      "[ 5.  5.  5.  5.  5.]\n",
      "[ 1.  1.  1.  1.  1.]\n"
     ]
    }
   ],
   "source": [
    "print(val1)\n",
    "print(val2)"
   ]
  },
  {
   "cell_type": "code",
   "execution_count": 31,
   "metadata": {
    "collapsed": false
   },
   "outputs": [
    {
     "name": "stdout",
     "output_type": "stream",
     "text": [
      "[ 1.]\n"
     ]
    }
   ],
   "source": [
    "print(numpy.linspace(1,1,1))"
   ]
  },
  {
   "cell_type": "code",
   "execution_count": 32,
   "metadata": {
    "collapsed": false
   },
   "outputs": [
    {
     "name": "stdout",
     "output_type": "stream",
     "text": [
      "2.71828182846\n"
     ]
    }
   ],
   "source": [
    "print(numpy.exp(1))"
   ]
  },
  {
   "cell_type": "code",
   "execution_count": null,
   "metadata": {
    "collapsed": true
   },
   "outputs": [],
   "source": []
  }
 ],
 "metadata": {
  "kernelspec": {
   "display_name": "Python 3",
   "language": "python",
   "name": "python3"
  },
  "language_info": {
   "codemirror_mode": {
    "name": "ipython",
    "version": 3
   },
   "file_extension": ".py",
   "mimetype": "text/x-python",
   "name": "python",
   "nbconvert_exporter": "python",
   "pygments_lexer": "ipython3",
   "version": "3.4.3"
  }
 },
 "nbformat": 4,
 "nbformat_minor": 0
}
