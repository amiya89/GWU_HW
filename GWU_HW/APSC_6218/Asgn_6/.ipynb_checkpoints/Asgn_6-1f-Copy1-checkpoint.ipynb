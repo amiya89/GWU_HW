{
 "cells": [
  {
   "cell_type": "code",
   "execution_count": 28,
   "metadata": {
    "collapsed": true
   },
   "outputs": [],
   "source": [
    "import numpy as np\n",
    "import matplotlib.pyplot as plt\n",
    "from matplotlib import rcParams\n",
    "rcParams['font.family'] = 'serif'\n",
    "rcParams['font.size'] = 16\n",
    "%matplotlib inline"
   ]
  },
  {
   "cell_type": "code",
   "execution_count": 29,
   "metadata": {
    "collapsed": true
   },
   "outputs": [],
   "source": [
    "# Parameteres\n",
    "L = 1\n",
    "D = 1\n",
    "nx = 50\n",
    "x = np.linspace(0, L, nx+1)\n",
    "nn = 100\n",
    "n = np.linspace(1,nn,nn)"
   ]
  },
  {
   "cell_type": "code",
   "execution_count": 30,
   "metadata": {
    "collapsed": false
   },
   "outputs": [],
   "source": [
    "def plot_T(nx, nn, n, x, L, D, t):\n",
    "    \n",
    "    n_store = np.zeros_like(n)\n",
    "    T_dom = np.zeros_like(x)\n",
    "\n",
    "\n",
    "    for i in range(nx):\n",
    "    \n",
    "        for z in range(nn):\n",
    "            n_store[i] = (4/np.pi**3) * ((-1)**n[z] - 1)/n[z]**3 *\\\n",
    "                np.sin(n[z]*np.pi*x[i]/L) * np.exp(-D * (np.pi*n[z]/L)**2*t)\n",
    "        \n",
    "            T_dom[i] = x[i]/L - (x[i]/L)**2 + np.sum(n_store)\n",
    "            \n",
    "    return T_dom"
   ]
  },
  {
   "cell_type": "code",
   "execution_count": 31,
   "metadata": {
    "collapsed": false
   },
   "outputs": [],
   "source": [
    "T_1 = plot_T(nx, nn, n, x, L, D, 0)\n",
    "T_2 = plot_T(nx, nn, n, x, L, D, 1)\n",
    "T_3 = plot_T(nx, nn, n, x, L, D, 5)\n",
    "T_4 = plot_T(nx, nn, n, x, L, D, 60)"
   ]
  },
  {
   "cell_type": "code",
   "execution_count": 32,
   "metadata": {
    "collapsed": false
   },
   "outputs": [
    {
     "data": {
      "text/plain": [
       "<matplotlib.legend.Legend at 0x82d30f0>"
      ]
     },
     "execution_count": 32,
     "metadata": {},
     "output_type": "execute_result"
    },
    {
     "data": {
      "image/png": "[encoded data removed]",
      "text/plain": [
       "<matplotlib.figure.Figure at 0x646d8d0>"
      ]
     },
     "metadata": {},
     "output_type": "display_data"
    }
   ],
   "source": [
    "plt.plot(x, T_1)\n",
    "plt.plot(x, T_2)\n",
    "plt.plot(x, T_3)\n",
    "plt.plot(x, T_4)\n",
    "plt.xlabel('x')\n",
    "plt.ylabel('(T(x,t)-T(0))/(QL^2/2k)')\n",
    "plt.legend(['t=0','t=1','t=5','t=60'])"
   ]
  },
  {
   "cell_type": "code",
   "execution_count": null,
   "metadata": {
    "collapsed": true
   },
   "outputs": [],
   "source": [
    "n_store = np.zeros_like(n)\n",
    "T_dom = np.zeros_like(x)\n",
    "\n",
    "\n",
    "for i in range(nx):\n",
    "    \n",
    "    \n",
    "    for z in range(nn):\n",
    "        n_store[i] = (4/np.pi**3) * ((-1)**n[z] - 1)/n[z]**3 *\\\n",
    "                np.sin(n[z]*np.pi*x[i]/L) * np.exp(-D * (np.pi*n[z]/L)**2*t)\n",
    "        \n",
    "            T_dom[i] = x[i]/L - (x[i]/L)**2 + np.sum(n_store)"
   ]
  }
 ],
 "metadata": {
  "kernelspec": {
   "display_name": "Python 3",
   "language": "python",
   "name": "python3"
  },
  "language_info": {
   "codemirror_mode": {
    "name": "ipython",
    "version": 3
   },
   "file_extension": ".py",
   "mimetype": "text/x-python",
   "name": "python",
   "nbconvert_exporter": "python",
   "pygments_lexer": "ipython3",
   "version": "3.4.3"
  }
 },
 "nbformat": 4,
 "nbformat_minor": 0
}
